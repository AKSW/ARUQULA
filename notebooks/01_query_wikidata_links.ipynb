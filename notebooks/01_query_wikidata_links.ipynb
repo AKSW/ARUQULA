{
 "cells": [
  {
   "cell_type": "code",
   "execution_count": null,
   "id": "8c891595",
   "metadata": {},
   "outputs": [],
   "source": [
    "import wmfdata\n",
    "import urllib.parse\n",
    "import pyspark.sql.functions as sf\n",
    "import pandas as pd"
   ]
  },
  {
   "cell_type": "code",
   "execution_count": null,
   "id": "2015b919",
   "metadata": {
    "scrolled": true
   },
   "outputs": [],
   "source": [
    "spark = wmfdata.spark.create_session(\n",
    "    type='yarn-large',\n",
    "    app_name='htriedman sparql query extraction',\n",
    "    ship_python_env=True\n",
    ")"
   ]
  },
  {
   "cell_type": "code",
   "execution_count": null,
   "id": "4521012c",
   "metadata": {},
   "outputs": [],
   "source": [
    "query = \"\"\"\n",
    "SELECT e.el_from as page_id, e.el_to_path as url_encoded_query\n",
    "FROM wmf_raw.mediawiki_externallinks e\n",
    "WHERE\n",
    "    e.el_to_domain_index = 'https://org.wikidata.query.'\n",
    "    AND e.el_to_path != '/'\n",
    "    AND e.wiki_db = 'wikidatawiki'\n",
    "    AND e.snapshot = '2023-12'\n",
    "\"\"\""
   ]
  },
  {
   "cell_type": "code",
   "execution_count": null,
   "id": "65e82700",
   "metadata": {},
   "outputs": [],
   "source": [
    "df = spark.sql(query)"
   ]
  },
  {
   "cell_type": "code",
   "execution_count": null,
   "id": "2e3584ef",
   "metadata": {},
   "outputs": [],
   "source": [
    "decode = sf.udf(urllib.parse.unquote)"
   ]
  },
  {
   "cell_type": "code",
   "execution_count": null,
   "id": "748b26c2",
   "metadata": {},
   "outputs": [],
   "source": [
    "df = df.withColumn('decoded_query', decode(df.url_encoded_query))"
   ]
  },
  {
   "cell_type": "code",
   "execution_count": null,
   "id": "9975ea63",
   "metadata": {},
   "outputs": [],
   "source": [
    "pattern = r'^/##(?!defaultView:)|#title:'\n",
    "\n",
    "# Filtering the DataFrame\n",
    "filtered_df = df.filter(df.decoded_query.rlike(pattern))"
   ]
  },
  {
   "cell_type": "code",
   "execution_count": null,
   "id": "35999e2d",
   "metadata": {},
   "outputs": [],
   "source": [
    "pd_df = filtered_df.toPandas()"
   ]
  },
  {
   "cell_type": "code",
   "execution_count": null,
   "id": "74b6cec2",
   "metadata": {},
   "outputs": [],
   "source": [
    "pd_df = pd_df[['page_id', 'decoded_query']]"
   ]
  },
  {
   "cell_type": "code",
   "execution_count": null,
   "id": "fa5219f3",
   "metadata": {},
   "outputs": [],
   "source": [
    "pd_df['decoded_query'] = pd_df['decoded_query'].str[2:]"
   ]
  },
  {
   "cell_type": "code",
   "execution_count": null,
   "id": "72a4d3b3",
   "metadata": {
    "scrolled": true
   },
   "outputs": [],
   "source": [
    "print(pd_df['decoded_query'][500])"
   ]
  },
  {
   "cell_type": "code",
   "execution_count": null,
   "id": "dee36c1f",
   "metadata": {},
   "outputs": [],
   "source": [
    "pd_df.to_pickle('wikidata-sparql-titles.pkl')"
   ]
  },
  {
   "cell_type": "markdown",
   "id": "20eeac78",
   "metadata": {},
   "source": [
    "## Start investigating link context"
   ]
  },
  {
   "cell_type": "code",
   "execution_count": null,
   "id": "18747c5a",
   "metadata": {},
   "outputs": [],
   "source": [
    "pd_df = pd.read_pickle('wikidata-sparql-titles.pkl')"
   ]
  },
  {
   "cell_type": "code",
   "execution_count": null,
   "id": "4c773381",
   "metadata": {},
   "outputs": [],
   "source": [
    "pd_df"
   ]
  },
  {
   "cell_type": "code",
   "execution_count": null,
   "id": "80bc43b9",
   "metadata": {},
   "outputs": [],
   "source": [
    "spark.sql(\"\"\"\n",
    "select *\n",
    "from wmf.mediawiki_wikitext_current\n",
    "where snapshot = '2023-12'\n",
    "and wiki_db = 'wikidatawiki'\n",
    "and page_id = 22470558\n",
    "\"\"\").show()"
   ]
  },
  {
   "cell_type": "code",
   "execution_count": null,
   "id": "05995501",
   "metadata": {},
   "outputs": [],
   "source": []
  },
  {
   "cell_type": "code",
   "execution_count": null,
   "id": "6cce6d0b",
   "metadata": {},
   "outputs": [],
   "source": []
  },
  {
   "cell_type": "code",
   "execution_count": null,
   "id": "9709f79e",
   "metadata": {},
   "outputs": [],
   "source": [
    "spark.sparkContext.stop()\n",
    "spark.stop()  "
   ]
  },
  {
   "cell_type": "code",
   "execution_count": null,
   "id": "680ecc7e",
   "metadata": {},
   "outputs": [],
   "source": []
  }
 ],
 "metadata": {
  "kernelspec": {
   "display_name": "Python 3 (ipykernel)",
   "language": "python",
   "name": "python3"
  },
  "language_info": {
   "codemirror_mode": {
    "name": "ipython",
    "version": 3
   },
   "file_extension": ".py",
   "mimetype": "text/x-python",
   "name": "python",
   "nbconvert_exporter": "python",
   "pygments_lexer": "ipython3",
   "version": "3.7.9"
  }
 },
 "nbformat": 4,
 "nbformat_minor": 5
}
